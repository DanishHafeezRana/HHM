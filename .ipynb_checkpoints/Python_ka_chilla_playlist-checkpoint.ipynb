{
 "cells": [
  {
   "cell_type": "markdown",
   "id": "f5f8f6d1",
   "metadata": {},
   "source": [
    "# Python ka chilla (40 Days)"
   ]
  },
  {
   "cell_type": "markdown",
   "id": "16bd5d55",
   "metadata": {},
   "source": [
    "[01]:https://www.youtube.com/watch?v=QvPekMN4F0w&list=PL9XvIvvVL50HVsu-Ao8NBr0UJSO8O6lBI&index=1   \n",
    "- [x] 00-Intro to python ka Chilla (DAY-0) [here][01] <br> "
   ]
  },
  {
   "cell_type": "markdown",
   "id": "1e81785e",
   "metadata": {},
   "source": [
    "[02]:https://www.youtube.com/watch?v=p_ALPibv7JQ&list=PL9XvIvvVL50HVsu-Ao8NBr0UJSO8O6lBI&index=2   \n",
    "- [x] 10 important steps to become a data Scientist [here][02] <br>"
   ]
  },
  {
   "cell_type": "markdown",
   "id": "996ae67d",
   "metadata": {},
   "source": [
    "[03]:https://www.youtube.com/watch?v=DocMENFKIQM&list=PL9XvIvvVL50HVsu-Ao8NBr0UJSO8O6lBI&index=3   \n",
    "- [x] 01a- Python_ka_chilla (Day-1)- Zoom class [here][03] <br>"
   ]
  },
  {
   "cell_type": "markdown",
   "id": "3d3c32d0",
   "metadata": {},
   "source": [
    "[04]:https://www.youtube.com/watch?v=amqff0XN2iM&list=PL9XvIvvVL50HVsu-Ao8NBr0UJSO8O6lBI&index=4   \n",
    "- [x] 01- Installation & first line of code (DAY-1) [here][04] <br>"
   ]
  },
  {
   "cell_type": "markdown",
   "id": "4e8fef32",
   "metadata": {},
   "source": [
    "[05]:https://www.youtube.com/watch?v=qbte73JwgFs&list=PL9XvIvvVL50HVsu-Ao8NBr0UJSO8O6lBI&index=5   \n",
    "- [x] 02-Complete Python tutorial for beginners (Day-2) [here][05] <br>"
   ]
  },
  {
   "cell_type": "markdown",
   "id": "e2bed63e",
   "metadata": {},
   "source": [
    "[06]:https://www.youtube.com/watch?v=lqMG7CD4ex4&list=PL9XvIvvVL50HVsu-Ao8NBr0UJSO8O6lBI&index=6   \n",
    "- [x] 03- Saving your python codes in digital notebook (Day-3) | jupyter notebook [here][06] <br>"
   ]
  },
  {
   "cell_type": "markdown",
   "id": "8925a001",
   "metadata": {},
   "source": [
    "[07]:https://www.youtube.com/watch?v=Zyv5IVQU4ns&list=PL9XvIvvVL50HVsu-Ao8NBr0UJSO8O6lBI&index=7   \n",
    "- [x] 04- Indexing in python [ ] (Day-3) | jupyter notebook [here][07] <br>"
   ]
  },
  {
   "cell_type": "markdown",
   "id": "9d032676",
   "metadata": {},
   "source": [
    "[08]:https://www.youtube.com/watch?v=iAqYePrJ14E&list=PL9XvIvvVL50HVsu-Ao8NBr0UJSO8O6lBI&index=8   \n",
    "- [x] 05- Data structures in python (Day-3) | jupyter notebook [here][08] <br>"
   ]
  },
  {
   "cell_type": "code",
   "execution_count": null,
   "id": "9d5f2b91",
   "metadata": {},
   "outputs": [],
   "source": []
  },
  {
   "cell_type": "markdown",
   "id": "7c83c759",
   "metadata": {},
   "source": [
    "[08]:https://www.youtube.com/watch?v=iAqYePrJ14E&list=PL9XvIvvVL50HVsu-Ao8NBr0UJSO8O6lBI&index=8   \n",
    "- [x] 05- Data structures in python (Day-3) | jupyter notebook [here][08] <br>"
   ]
  },
  {
   "cell_type": "code",
   "execution_count": null,
   "id": "10ecc193",
   "metadata": {},
   "outputs": [],
   "source": []
  },
  {
   "cell_type": "markdown",
   "id": "afc76f6c",
   "metadata": {},
   "source": [
    "[08]:https://www.youtube.com/watch?v=iAqYePrJ14E&list=PL9XvIvvVL50HVsu-Ao8NBr0UJSO8O6lBI&index=8   \n",
    "- [x] 05- Data structures in python (Day-3) | jupyter notebook [here][08] <br>"
   ]
  },
  {
   "cell_type": "code",
   "execution_count": null,
   "id": "6b8356dc",
   "metadata": {},
   "outputs": [],
   "source": []
  },
  {
   "cell_type": "markdown",
   "id": "707b08f9",
   "metadata": {},
   "source": [
    "[08]:https://www.youtube.com/watch?v=iAqYePrJ14E&list=PL9XvIvvVL50HVsu-Ao8NBr0UJSO8O6lBI&index=8   \n",
    "- [x] 05- Data structures in python (Day-3) | jupyter notebook [here][08] <br>"
   ]
  },
  {
   "cell_type": "code",
   "execution_count": null,
   "id": "da083a5e",
   "metadata": {},
   "outputs": [],
   "source": []
  },
  {
   "cell_type": "markdown",
   "id": "c1e4f4f4",
   "metadata": {},
   "source": [
    "[09]:https://www.youtube.com/watch?v=8cDclUKKiW8&list=PL9XvIvvVL50HVsu-Ao8NBr0UJSO8O6lBI&index=9   \n",
    "- [x] 06- Live Session (DAY-2) | [here][09] <br>"
   ]
  },
  {
   "cell_type": "code",
   "execution_count": null,
   "id": "99bc80c3",
   "metadata": {},
   "outputs": [],
   "source": []
  },
  {
   "cell_type": "markdown",
   "id": "d5e9a67e",
   "metadata": {},
   "source": [
    "[09]:https://www.youtube.com/watch?v=8cDclUKKiW8&list=PL9XvIvvVL50HVsu-Ao8NBr0UJSO8O6lBI&index=9   \n",
    "- [x] 06- Live Session (DAY-2) | [here][09] <br>"
   ]
  },
  {
   "cell_type": "code",
   "execution_count": null,
   "id": "aaf6a549",
   "metadata": {},
   "outputs": [],
   "source": []
  },
  {
   "cell_type": "markdown",
   "id": "dbad33bc",
   "metadata": {},
   "source": [
    "[10]:https://www.youtube.com/watch?v=950mIwi-vaY&list=PL9XvIvvVL50HVsu-Ao8NBr0UJSO8O6lBI&index=10  \n",
    "- [x] 07- Python_ka_chilla (Day-3)- Zoom class [here][10] <br>"
   ]
  },
  {
   "cell_type": "code",
   "execution_count": null,
   "id": "b24faa69",
   "metadata": {},
   "outputs": [],
   "source": []
  },
  {
   "cell_type": "markdown",
   "id": "9f663efa",
   "metadata": {},
   "source": [
    "[10]:https://www.youtube.com/watch?v=950mIwi-vaY&list=PL9XvIvvVL50HVsu-Ao8NBr0UJSO8O6lBI&index=10  \n",
    "- [x] 07- Python_ka_chilla (Day-3)- Zoom class [here][10] <br>"
   ]
  },
  {
   "cell_type": "code",
   "execution_count": null,
   "id": "99614457",
   "metadata": {},
   "outputs": [],
   "source": []
  },
  {
   "cell_type": "markdown",
   "id": "3c7d224d",
   "metadata": {},
   "source": [
    "[11]:https://www.youtube.com/watch?v=BQnvEX1nkE8&list=PL9XvIvvVL50HVsu-Ao8NBr0UJSO8O6lBI&index=11  \n",
    "- [] 08- Line and bar plots in python (Day-4) | [here][11] <br>"
   ]
  },
  {
   "cell_type": "code",
   "execution_count": null,
   "id": "906f3875",
   "metadata": {},
   "outputs": [],
   "source": []
  },
  {
   "cell_type": "markdown",
   "id": "4a39833a",
   "metadata": {},
   "source": [
    "[12]:https://www.youtube.com/watch?v=cNaDg5O2A00&list=PL9XvIvvVL50HVsu-Ao8NBr0UJSO8O6lBI&index=12  \n",
    "- [] 09- Python_ka_chilla (Day-4)- Zoom class [here][12] <br>"
   ]
  },
  {
   "cell_type": "code",
   "execution_count": null,
   "id": "2decc39a",
   "metadata": {},
   "outputs": [],
   "source": []
  },
  {
   "cell_type": "markdown",
   "id": "ba5d440b",
   "metadata": {},
   "source": [
    "[13]:https://www.youtube.com/watch?v=1VR79uzvepE&list=PL9XvIvvVL50HVsu-Ao8NBr0UJSO8O6lBI&index=13  \n",
    "- [] 10- Boxplots in python (Day-4) | [here][13] <br>"
   ]
  },
  {
   "cell_type": "markdown",
   "id": "abee474f",
   "metadata": {},
   "source": [
    "[14]:https://www.youtube.com/watch?v=F_Etr20Bg_Y&list=PL9XvIvvVL50HVsu-Ao8NBr0UJSO8O6lBI&index=14  \n",
    "- [] 11- customizing plots in python (Day-4) | [here][14] <br>"
   ]
  },
  {
   "cell_type": "code",
   "execution_count": null,
   "id": "fb2b90ac",
   "metadata": {},
   "outputs": [],
   "source": []
  },
  {
   "cell_type": "markdown",
   "id": "b792dcc6",
   "metadata": {},
   "source": [
    "[15]:https://www.youtube.com/watch?v=g41zglpO9mk&list=PL9XvIvvVL50HVsu-Ao8NBr0UJSO8O6lBI&index=15  \n",
    "- [] 12- Many plots in python (Day-4) | [here][15] <br>"
   ]
  },
  {
   "cell_type": "code",
   "execution_count": null,
   "id": "02aa1441",
   "metadata": {},
   "outputs": [],
   "source": []
  },
  {
   "cell_type": "markdown",
   "id": "6e897f75",
   "metadata": {},
   "source": [
    "[16]:https://www.youtube.com/watch?v=c9mXk8Ur2xs&list=PL9XvIvvVL50HVsu-Ao8NBr0UJSO8O6lBI&index=16  \n",
    "- [] 13- Python_ka_chilla (Day-5)-Zoom Class [here][16] <br>"
   ]
  },
  {
   "cell_type": "code",
   "execution_count": null,
   "id": "2bb38cd2",
   "metadata": {},
   "outputs": [],
   "source": []
  },
  {
   "cell_type": "markdown",
   "id": "e73ccaad",
   "metadata": {},
   "source": [
    "[17]:https://www.youtube.com/watch?v=B-myzKTxH6s&list=PL9XvIvvVL50HVsu-Ao8NBr0UJSO8O6lBI&index=17  \n",
    "- [] 14- Python_ka_chilla (Day-6)-Zoom Session [here][17] <br>"
   ]
  },
  {
   "cell_type": "code",
   "execution_count": null,
   "id": "4e260e28",
   "metadata": {},
   "outputs": [],
   "source": []
  },
  {
   "cell_type": "markdown",
   "id": "9207e1f1",
   "metadata": {},
   "source": [
    "[18]:https://www.youtube.com/watch?v=-_r8z0-6YfA&list=PL9XvIvvVL50HVsu-Ao8NBr0UJSO8O6lBI&index=18  \n",
    "- [] 15- NumPy in Python for Data Science (Day-7a) | [here][18] <br> "
   ]
  },
  {
   "cell_type": "code",
   "execution_count": null,
   "id": "eee81299",
   "metadata": {},
   "outputs": [],
   "source": []
  },
  {
   "cell_type": "markdown",
   "id": "b3d4aee0",
   "metadata": {},
   "source": [
    "[19]:https://www.youtube.com/watch?v=7b15oGJokS8&list=PL9XvIvvVL50HVsu-Ao8NBr0UJSO8O6lBI&index=19  \n",
    "- [] 16- Python_ka_chilla (Day-7)-Zoom Session [here][19] <br>"
   ]
  },
  {
   "cell_type": "code",
   "execution_count": null,
   "id": "28860d96",
   "metadata": {},
   "outputs": [],
   "source": []
  },
  {
   "cell_type": "markdown",
   "id": "5c2e14af",
   "metadata": {},
   "source": [
    "[20]:https://www.youtube.com/watch?v=-sQ1jwBRk_Q&list=PL9XvIvvVL50HVsu-Ao8NBr0UJSO8O6lBI&index=20  \n",
    "- [] 17- NumPy in Python for Data Science (Day-7b) |[here][20] <br>"
   ]
  },
  {
   "cell_type": "code",
   "execution_count": null,
   "id": "730d1f1d",
   "metadata": {},
   "outputs": [],
   "source": []
  },
  {
   "cell_type": "markdown",
   "id": "c972acca",
   "metadata": {},
   "source": [
    "[21]:https://www.youtube.com/watch?v=qJqAXjz-Rh4&list=PL9XvIvvVL50HVsu-Ao8NBr0UJSO8O6lBI&index=21  \n",
    "- [x] 18- MarkDown in 72 minutes crash course (Day-8) |[here][21] <br>"
   ]
  },
  {
   "cell_type": "code",
   "execution_count": null,
   "id": "29b3da39",
   "metadata": {},
   "outputs": [],
   "source": []
  },
  {
   "cell_type": "markdown",
   "id": "50c14664",
   "metadata": {},
   "source": [
    "[22]:https://www.youtube.com/watch?v=kYbXBG0jjXk&list=PL9XvIvvVL50HVsu-Ao8NBr0UJSO8O6lBI&index=22  \n",
    "- [] 19- Python_ka_chilla (Day-8)-Zoom Session [here][22] <br>"
   ]
  },
  {
   "cell_type": "code",
   "execution_count": null,
   "id": "aa26e054",
   "metadata": {},
   "outputs": [],
   "source": []
  },
  {
   "cell_type": "markdown",
   "id": "5a9f4751",
   "metadata": {},
   "source": [
    "[23]:https://www.youtube.com/watch?v=JV-uNM3NxQU&list=PL9XvIvvVL50HVsu-Ao8NBr0UJSO8O6lBI&index=23  \n",
    "- [x] 20- GIT and GIT Tools- by Ms Qurat Ul Ain Ali  (Day-9) [here][23] <br>"
   ]
  },
  {
   "cell_type": "code",
   "execution_count": null,
   "id": "af814f3d",
   "metadata": {},
   "outputs": [],
   "source": []
  },
  {
   "cell_type": "markdown",
   "id": "5497cb71",
   "metadata": {},
   "source": [
    "[24]:https://www.youtube.com/watch?v=IA5YfYaLrUA&list=PL9XvIvvVL50HVsu-Ao8NBr0UJSO8O6lBI&index=24  \n",
    "- [] 21-  Jupyter notebook in VScode (Day-10) |[here][24] <br>"
   ]
  },
  {
   "cell_type": "code",
   "execution_count": null,
   "id": "b3d554b6",
   "metadata": {},
   "outputs": [],
   "source": []
  },
  {
   "cell_type": "markdown",
   "id": "46b42590",
   "metadata": {},
   "source": [
    "[25]:https://www.youtube.com/watch?v=5G7xbj4lpUU&list=PL9XvIvvVL50HVsu-Ao8NBr0UJSO8O6lBI&index=25  \n",
    "- [] 22- Python_ka_chilla (Day-10)-Zoom Session [here][25] <br>"
   ]
  },
  {
   "cell_type": "code",
   "execution_count": null,
   "id": "0b6e1e11",
   "metadata": {},
   "outputs": [],
   "source": []
  },
  {
   "cell_type": "markdown",
   "id": "7976601d",
   "metadata": {},
   "source": [
    "[26]:https://www.youtube.com/watch?v=tOerPY3-W8I&list=PL9XvIvvVL50HVsu-Ao8NBr0UJSO8O6lBI&index=26  \n",
    "- [] 23- github and VScode (Day-11) |[here][26] <br>"
   ]
  },
  {
   "cell_type": "code",
   "execution_count": null,
   "id": "affa08e1",
   "metadata": {},
   "outputs": [],
   "source": []
  },
  {
   "cell_type": "markdown",
   "id": "1c1fc695",
   "metadata": {},
   "source": [
    "[27]:https://www.youtube.com/watch?v=B88iRnHOuNY&list=PL9XvIvvVL50HVsu-Ao8NBr0UJSO8O6lBI&index=27  \n",
    "- [] 24- Pandas use in Python (Day-11) |[here][27] <br>"
   ]
  },
  {
   "cell_type": "code",
   "execution_count": null,
   "id": "68fe3f60",
   "metadata": {},
   "outputs": [],
   "source": []
  },
  {
   "cell_type": "markdown",
   "id": "54da6ab3",
   "metadata": {},
   "source": [
    "[28]:https://www.youtube.com/watch?v=B-IFWFcbprk&list=PL9XvIvvVL50HVsu-Ao8NBr0UJSO8O6lBI&index=28  \n",
    "- [] 25- Python_ka_chilla (Day-11)-Zoom Session [here][28] <br>"
   ]
  },
  {
   "cell_type": "code",
   "execution_count": null,
   "id": "bb63935b",
   "metadata": {},
   "outputs": [],
   "source": []
  },
  {
   "cell_type": "markdown",
   "id": "ecfe60f9",
   "metadata": {},
   "source": [
    "[29]:https://www.youtube.com/watch?v=aXKs-iaJsBU&list=PL9XvIvvVL50HVsu-Ao8NBr0UJSO8O6lBI&index=29  \n",
    "- [x] 26- Pandas and a case-study in Python for Data Science (Day-12) |[here][29] <br>"
   ]
  },
  {
   "cell_type": "code",
   "execution_count": null,
   "id": "e3221aa4",
   "metadata": {},
   "outputs": [],
   "source": []
  },
  {
   "cell_type": "markdown",
   "id": "121fedea",
   "metadata": {},
   "source": [
    "[30]:https://www.youtube.com/watch?v=mrG6vNld42s&list=PL9XvIvvVL50HVsu-Ao8NBr0UJSO8O6lBI&index=30  \n",
    "- [x] 27- Python_ka_chilla (Day-12)-Zoom Session [here][30] <br>"
   ]
  },
  {
   "cell_type": "code",
   "execution_count": null,
   "id": "e00063d5",
   "metadata": {},
   "outputs": [],
   "source": []
  },
  {
   "cell_type": "markdown",
   "id": "e2156d91",
   "metadata": {},
   "source": [
    "[31]:https://www.youtube.com/watch?v=13V9SdzG6uk&list=PL9XvIvvVL50HVsu-Ao8NBr0UJSO8O6lBI&index=31  \n",
    "- [x] 28- Statistics for Data Science (Crash Course) (Day-13) |[here][31] <br>"
   ]
  },
  {
   "cell_type": "code",
   "execution_count": null,
   "id": "54f275cb",
   "metadata": {},
   "outputs": [],
   "source": []
  },
  {
   "cell_type": "markdown",
   "id": "09287dbc",
   "metadata": {},
   "source": [
    "[32]:https://www.youtube.com/watch?v=UNiH9PgWqAw&list=PL9XvIvvVL50HVsu-Ao8NBr0UJSO8O6lBI&index=32  \n",
    "- [x] 29- Python_ka_chilla (Day-13)-Zoom Session [here][32] <br>"
   ]
  },
  {
   "cell_type": "code",
   "execution_count": null,
   "id": "ce8cc557",
   "metadata": {},
   "outputs": [],
   "source": []
  },
  {
   "cell_type": "markdown",
   "id": "37d60f7a",
   "metadata": {},
   "source": [
    "[32]:https://www.youtube.com/watch?v=UNiH9PgWqAw&list=PL9XvIvvVL50HVsu-Ao8NBr0UJSO8O6lBI&index=32  \n",
    "- [x] 29- Python_ka_chilla (Day-13)-Zoom Session [here][32] <br>"
   ]
  },
  {
   "cell_type": "code",
   "execution_count": null,
   "id": "d7ec4038",
   "metadata": {},
   "outputs": [],
   "source": []
  },
  {
   "cell_type": "markdown",
   "id": "24b6c491",
   "metadata": {},
   "source": [
    "[33]:https://www.youtube.com/watch?v=2LXoswt_o0w&list=PL9XvIvvVL50HVsu-Ao8NBr0UJSO8O6lBI&index=33  \n",
    "- [x] 30- Exploratory Data Analysis (EDA) with Python (Day-14) [here][33] <br>"
   ]
  },
  {
   "cell_type": "code",
   "execution_count": null,
   "id": "886da1d6",
   "metadata": {},
   "outputs": [],
   "source": []
  },
  {
   "cell_type": "markdown",
   "id": "38caa0ee",
   "metadata": {},
   "source": [
    "[34]:\n",
    "- [x]   "
   ]
  }
 ],
 "metadata": {
  "kernelspec": {
   "display_name": "Python 3",
   "language": "python",
   "name": "python3"
  },
  "language_info": {
   "codemirror_mode": {
    "name": "ipython",
    "version": 3
   },
   "file_extension": ".py",
   "mimetype": "text/x-python",
   "name": "python",
   "nbconvert_exporter": "python",
   "pygments_lexer": "ipython3",
   "version": "3.8.8"
  },
  "toc": {
   "base_numbering": 1,
   "nav_menu": {},
   "number_sections": true,
   "sideBar": true,
   "skip_h1_title": false,
   "title_cell": "Table of Contents",
   "title_sidebar": "Contents",
   "toc_cell": false,
   "toc_position": {},
   "toc_section_display": true,
   "toc_window_display": false
  }
 },
 "nbformat": 4,
 "nbformat_minor": 5
}
