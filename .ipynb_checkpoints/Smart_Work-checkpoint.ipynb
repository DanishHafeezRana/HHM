{
 "cells": [
  {
   "cell_type": "markdown",
   "id": "9984e861",
   "metadata": {},
   "source": [
    "# How to Copy All The Titles And URLs From YouTube Channel"
   ]
  },
  {
   "cell_type": "markdown",
   "id": "2cfaf743",
   "metadata": {},
   "source": [
    "- go to playlist\n",
    "- right click &#8594; inspect &#8594; console &#8594; page refresh &#8594; paste first code and wait till uplode all videos &#8594; then paste second code &#8594; all titles and urls here."
   ]
  },
  {
   "cell_type": "markdown",
   "id": "ef63292f",
   "metadata": {},
   "source": [
    "### two code will be used\n",
    "> var scroll = setInterval(function(){ window.scrollBy(0, 1000)}, 1000);\n",
    "\n",
    "> window.clearInterval(scroll); console.clear(); urls = $$('a'); urls.forEach(function(v,i,a){if (v.id==\"video-title\"){console.log('\\t'+v.title+'\\t'+v.href+'\\t')}});\n",
    "\n",
    "[01]:https://www.youtube.com/watch?v=cwttM41xVBY\n",
    "video ref [here][01]\n"
   ]
  },
  {
   Good Work
   
   "cell_type": "code",
   "execution_count": null,
   "id": "09a3cd41",
   "metadata": {},
   "outputs": [],
   "source": []
  }
 ],
 "metadata": {
  "kernelspec": {
   "display_name": "Python 3",
   "language": "python",
   "name": "python3"
  },
  "language_info": {
   "codemirror_mode": {
    "name": "ipython",
    "version": 3
   },
   "file_extension": ".py",
   "mimetype": "text/x-python",
   "name": "python",
   "nbconvert_exporter": "python",
   "pygments_lexer": "ipython3",
   "version": "3.8.8"
  },
  "toc": {
   "base_numbering": 1,
   "nav_menu": {},
   "number_sections": true,
   "sideBar": true,
   "skip_h1_title": false,
   "title_cell": "Table of Contents",
   "title_sidebar": "Contents",
   "toc_cell": false,
   "toc_position": {},
   "toc_section_display": true,
   "toc_window_display": false
  }
 },
 "nbformat": 4,
 "nbformat_minor": 5
}
