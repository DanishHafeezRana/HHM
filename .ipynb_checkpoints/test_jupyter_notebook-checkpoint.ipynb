{
 "cells": [
  {
   "cell_type": "markdown",
   "id": "fc81868e",
   "metadata": {},
   "source": [
    "# Introduction to Python"
   ]
  },
  {
   "cell_type": "markdown",
   "id": "b42a4047",
   "metadata": {},
   "source": [
    "An ordered set of instructions or commands to be \n",
    "executed by a computer is called a program. The \n",
    "language used to specify those set of instructions \n",
    "to the computer is called a programming language \n",
    "for example ___Python___, C, C++, Java, etc.\n",
    "___\n",
    "This chapter gives a brief overview of **Python \n",
    "programming language**. *Python* is a very popular \n",
    "and easy to learn programming language, created \n",
    "by Guido van Rossum in 1991. It is used in a \n",
    "variety of fields, including software development, \n",
    "web development, scientific computing, big data and Artificial Intelligence.\n",
    "***\n",
    "- day-1\n",
    "- day-2\n",
    "    - morning\n",
    "        - 11:30 to 12:30\n",
    "    - evening\n",
    "- day-3\n",
    "---\n",
    "<https://www.youtube.com/watch?v=qJqAXjz-Rh4>\n",
    "___\n",
    "[playlist]:https://www.youtube.com/watch?v=QvPekMN4F0w&list=PL9XvIvvVL50HVsu-Ao8NBr0UJSO8O6lBI\n",
    "The playlist of python ka chilla is [here][playlist]\n",
    "\n",
    "***\n",
    "[QR](03.png) \n",
    "[QR](03.png)\n",
    "***\n",
    "\n",
    "> how to comment\n",
    "\n",
    "***\n",
    "![onlineimage](https://www.bing.com/images/search?view=detailV2&ccid=MPMQuiRv&id=EFD10D3196346A1B28EA4E00C2FD767ACBDF55C1&thid=OIP.MPMQuiRvsaSV20OorFJYRgD2D9&mediaurl=https%3a%2f%2fth.bing.com%2fth%2fid%2fR.30f310ba246fb1a495db43a8ac525846%3frik%3dwVXfy3p2%252fcIATg%26riu%3dhttp%253a%252f%252f4.bp.blogspot.com%252f_uw0muW6yIfE%252fTQoeYEp6TDI%252fAAAAAAAAABY%252fVaJEyTexc1A%252fs1600%252fIBA.png%26ehk%3dMXhC99fqTuF%252f8YgvNFjhVpSZB9%252bEtfaYTxyLkKJIuhI%253d%26risl%3d%26pid%3dImgRaw%26r%3d0&exph=484&expw=472&q=IBA+Karachi&simid=608048888338318076&FORM=IRPRST&ck=E19303F105843F4627585F21E852B107&selectedIndex=1&ajaxhist=0&ajaxserp=0)\n",
    "***\n",
    "\n",
    "the output function in python is `print`\n",
    "___\n",
    "> print the code in md file\n",
    "```python\n",
    "x =5+6\n",
    "y =9\n",
    "z = 5+6\n",
    "```\n",
    "___\n",
    "> Adding tables\n",
    "\n",
    "| c1 | c2 | c3 | c4 | c5 |\n",
    "|:---|:---|:---|:---|:---|\n",
    "|Red|10|12|15|17|\n",
    "|blue|10|12|15|17|\n",
    "|pink|10|12|15|17|\n",
    "|gold|10|12|15|17|\n",
    "\n",
    "___\n",
    "> content\n",
    "\n",
    "[]\n"
   ]
  },
  {
   "cell_type": "markdown",
   "id": "aeef5e1b",
   "metadata": {},
   "source": [
    "### Python Keywords"
   ]
  },
  {
   "cell_type": "code",
   "execution_count": null,
   "id": "07a5a4e2",
   "metadata": {},
   "outputs": [],
   "source": []
  },
  {
   "cell_type": "markdown",
   "id": "5167fc60",
   "metadata": {},
   "source": [
    "### Identifiers"
   ]
  },
  {
   "cell_type": "code",
   "execution_count": null,
   "id": "522c633c",
   "metadata": {},
   "outputs": [],
   "source": []
  },
  {
   "cell_type": "markdown",
   "id": "1a009af4",
   "metadata": {},
   "source": [
    "### Variables"
   ]
  },
  {
   "cell_type": "code",
   "execution_count": null,
   "id": "cf15e166",
   "metadata": {},
   "outputs": [],
   "source": []
  },
  {
   "cell_type": "markdown",
   "id": "fadb1b36",
   "metadata": {},
   "source": [
    "### Data Types"
   ]
  },
  {
   "cell_type": "code",
   "execution_count": null,
   "id": "4411a452",
   "metadata": {},
   "outputs": [],
   "source": []
  },
  {
   "cell_type": "markdown",
   "id": "c1e8a29b",
   "metadata": {},
   "source": [
    "### Operators"
   ]
  },
  {
   "cell_type": "code",
   "execution_count": null,
   "id": "ac820484",
   "metadata": {},
   "outputs": [],
   "source": []
  },
  {
   "cell_type": "markdown",
   "id": "67b83c72",
   "metadata": {},
   "source": [
    "### Expressions"
   ]
  },
  {
   "cell_type": "code",
   "execution_count": null,
   "id": "eb8513a8",
   "metadata": {},
   "outputs": [],
   "source": []
  },
  {
   "cell_type": "markdown",
   "id": "33c0f6a6",
   "metadata": {},
   "source": [
    "### Input and Output"
   ]
  },
  {
   "cell_type": "code",
   "execution_count": null,
   "id": "1b9c30ac",
   "metadata": {},
   "outputs": [],
   "source": []
  },
  {
   "cell_type": "markdown",
   "id": "a82a58bf",
   "metadata": {},
   "source": [
    "### Debugging"
   ]
  },
  {
   "cell_type": "code",
   "execution_count": null,
   "id": "c4022c6e",
   "metadata": {},
   "outputs": [],
   "source": []
  },
  {
   "cell_type": "markdown",
   "id": "06d34bf0",
   "metadata": {},
   "source": [
    "### Functions"
   ]
  },
  {
   "cell_type": "code",
   "execution_count": null,
   "id": "18750297",
   "metadata": {},
   "outputs": [],
   "source": []
  },
  {
   "cell_type": "markdown",
   "id": "22443f61",
   "metadata": {},
   "source": [
    "### if..else Statements"
   ]
  },
  {
   "cell_type": "code",
   "execution_count": null,
   "id": "56f4f3f2",
   "metadata": {},
   "outputs": [],
   "source": []
  },
  {
   "cell_type": "markdown",
   "id": "ba14afc3",
   "metadata": {},
   "source": [
    "### for Loop"
   ]
  },
  {
   "cell_type": "code",
   "execution_count": null,
   "id": "69aec963",
   "metadata": {},
   "outputs": [],
   "source": []
  },
  {
   "cell_type": "markdown",
   "id": "4bea5abd",
   "metadata": {},
   "source": [
    "### Nested Loops"
   ]
  },
  {
   "cell_type": "code",
   "execution_count": null,
   "id": "726a4e87",
   "metadata": {},
   "outputs": [],
   "source": []
  },
  {
   "cell_type": "markdown",
   "id": "be7c75c4",
   "metadata": {},
   "source": [
    "### List Operations"
   ]
  },
  {
   "cell_type": "code",
   "execution_count": null,
   "id": "c762b8d5",
   "metadata": {},
   "outputs": [],
   "source": []
  },
  {
   "cell_type": "markdown",
   "id": "3bad02f5",
   "metadata": {},
   "source": [
    "### Traversing a List"
   ]
  },
  {
   "cell_type": "code",
   "execution_count": null,
   "id": "4f95b75f",
   "metadata": {},
   "outputs": [],
   "source": []
  },
  {
   "cell_type": "markdown",
   "id": "a2ea8fce",
   "metadata": {},
   "source": [
    "### List Methods and Built in Functions"
   ]
  },
  {
   "cell_type": "code",
   "execution_count": null,
   "id": "2ac026db",
   "metadata": {},
   "outputs": [],
   "source": []
  },
  {
   "cell_type": "markdown",
   "id": "a137072c",
   "metadata": {},
   "source": [
    "### List Manipulation"
   ]
  },
  {
   "cell_type": "code",
   "execution_count": null,
   "id": "d722b792",
   "metadata": {},
   "outputs": [],
   "source": []
  },
  {
   "cell_type": "markdown",
   "id": "ea8402b9",
   "metadata": {},
   "source": [
    "### Introduction to Dictionaries"
   ]
  },
  {
   "cell_type": "code",
   "execution_count": null,
   "id": "77d05576",
   "metadata": {},
   "outputs": [],
   "source": []
  },
  {
   "cell_type": "markdown",
   "id": "683181ee",
   "metadata": {},
   "source": [
    "### Traversing a Dictionary"
   ]
  },
  {
   "cell_type": "code",
   "execution_count": null,
   "id": "715205d2",
   "metadata": {},
   "outputs": [],
   "source": []
  },
  {
   "cell_type": "markdown",
   "id": "738eab26",
   "metadata": {},
   "source": [
    "### Dictionary Methods and Built-in Functions"
   ]
  },
  {
   "cell_type": "code",
   "execution_count": null,
   "id": "3721ce5f",
   "metadata": {},
   "outputs": [],
   "source": []
  },
  {
   "cell_type": "markdown",
   "id": "dc80bfe9",
   "metadata": {},
   "source": [
    "### Manipulating Dictionaries"
   ]
  },
  {
   "cell_type": "code",
   "execution_count": null,
   "id": "f09b6b27",
   "metadata": {},
   "outputs": [],
   "source": []
  },
  {
   "cell_type": "code",
   "execution_count": null,
   "id": "d9006625",
   "metadata": {},
   "outputs": [],
   "source": []
  },
  {
   "cell_type": "code",
   "execution_count": null,
   "id": "d42027d6",
   "metadata": {},
   "outputs": [],
   "source": []
  },
  {
   "cell_type": "code",
   "execution_count": 1,
   "id": "d297a90e",
   "metadata": {},
   "outputs": [],
   "source": [
    "a=123"
   ]
  }
 ],
 "metadata": {
  "kernelspec": {
   "display_name": "Python 3",
   "language": "python",
   "name": "python3"
  },
  "language_info": {
   "codemirror_mode": {
    "name": "ipython",
    "version": 3
   },
   "file_extension": ".py",
   "mimetype": "text/x-python",
   "name": "python",
   "nbconvert_exporter": "python",
   "pygments_lexer": "ipython3",
   "version": "3.8.8"
  },
  "toc": {
   "base_numbering": 1,
   "nav_menu": {},
   "number_sections": true,
   "sideBar": true,
   "skip_h1_title": false,
   "title_cell": "Table of Contents",
   "title_sidebar": "Contents",
   "toc_cell": false,
   "toc_position": {},
   "toc_section_display": true,
   "toc_window_display": false
  }
 },
 "nbformat": 4,
 "nbformat_minor": 5
}
